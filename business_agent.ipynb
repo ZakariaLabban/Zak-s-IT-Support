{
 "cells": [
  {
   "cell_type": "markdown",
   "metadata": {},
   "source": [
    "# Zak's IT Support - Business Agent Chatbot\n",
    "\n",
    "This notebook implements an AI-powered business assistant for Zak's IT Support using OpenAI API and tool calling functionality.\n"
   ]
  },
  {
   "cell_type": "markdown",
   "metadata": {},
   "source": [
    "## 1. Setup and Imports\n"
   ]
  },
  {
   "cell_type": "code",
   "execution_count": 1,
   "metadata": {},
   "outputs": [
    {
     "name": "stdout",
     "output_type": "stream",
     "text": [
      "Requirement already satisfied: openai in c:\\users\\administrator\\appdata\\local\\programs\\python\\python312\\lib\\site-packages (1.109.1)\n",
      "Requirement already satisfied: python-dotenv in c:\\users\\administrator\\appdata\\local\\programs\\python\\python312\\lib\\site-packages (1.1.1)\n",
      "Requirement already satisfied: gradio in c:\\users\\administrator\\appdata\\local\\programs\\python\\python312\\lib\\site-packages (5.49.1)\n",
      "Requirement already satisfied: PyPDF2 in c:\\users\\administrator\\appdata\\local\\programs\\python\\python312\\lib\\site-packages (3.0.1)\n",
      "Requirement already satisfied: anyio<5,>=3.5.0 in c:\\users\\administrator\\appdata\\local\\programs\\python\\python312\\lib\\site-packages (from openai) (4.6.2.post1)\n",
      "Requirement already satisfied: distro<2,>=1.7.0 in c:\\users\\administrator\\appdata\\local\\programs\\python\\python312\\lib\\site-packages (from openai) (1.9.0)\n",
      "Requirement already satisfied: httpx<1,>=0.23.0 in c:\\users\\administrator\\appdata\\local\\programs\\python\\python312\\lib\\site-packages (from openai) (0.27.2)\n",
      "Requirement already satisfied: jiter<1,>=0.4.0 in c:\\users\\administrator\\appdata\\local\\programs\\python\\python312\\lib\\site-packages (from openai) (0.7.1)\n",
      "Requirement already satisfied: pydantic<3,>=1.9.0 in c:\\users\\administrator\\appdata\\local\\programs\\python\\python312\\lib\\site-packages (from openai) (2.11.10)\n",
      "Requirement already satisfied: sniffio in c:\\users\\administrator\\appdata\\local\\programs\\python\\python312\\lib\\site-packages (from openai) (1.3.1)\n",
      "Requirement already satisfied: tqdm>4 in c:\\users\\administrator\\appdata\\local\\programs\\python\\python312\\lib\\site-packages (from openai) (4.67.0)\n",
      "Requirement already satisfied: typing-extensions<5,>=4.11 in c:\\users\\administrator\\appdata\\local\\programs\\python\\python312\\lib\\site-packages (from openai) (4.12.2)\n",
      "Requirement already satisfied: idna>=2.8 in c:\\users\\administrator\\appdata\\local\\programs\\python\\python312\\lib\\site-packages (from anyio<5,>=3.5.0->openai) (3.10)\n",
      "Requirement already satisfied: certifi in c:\\users\\administrator\\appdata\\local\\programs\\python\\python312\\lib\\site-packages (from httpx<1,>=0.23.0->openai) (2024.2.2)\n",
      "Requirement already satisfied: httpcore==1.* in c:\\users\\administrator\\appdata\\local\\programs\\python\\python312\\lib\\site-packages (from httpx<1,>=0.23.0->openai) (1.0.6)\n",
      "Requirement already satisfied: h11<0.15,>=0.13 in c:\\users\\administrator\\appdata\\local\\programs\\python\\python312\\lib\\site-packages (from httpcore==1.*->httpx<1,>=0.23.0->openai) (0.14.0)\n",
      "Requirement already satisfied: annotated-types>=0.6.0 in c:\\users\\administrator\\appdata\\local\\programs\\python\\python312\\lib\\site-packages (from pydantic<3,>=1.9.0->openai) (0.7.0)\n",
      "Requirement already satisfied: pydantic-core==2.33.2 in c:\\users\\administrator\\appdata\\local\\programs\\python\\python312\\lib\\site-packages (from pydantic<3,>=1.9.0->openai) (2.33.2)\n",
      "Requirement already satisfied: typing-inspection>=0.4.0 in c:\\users\\administrator\\appdata\\local\\programs\\python\\python312\\lib\\site-packages (from pydantic<3,>=1.9.0->openai) (0.4.2)\n",
      "Requirement already satisfied: aiofiles<25.0,>=22.0 in c:\\users\\administrator\\appdata\\local\\programs\\python\\python312\\lib\\site-packages (from gradio) (23.2.1)\n",
      "Requirement already satisfied: brotli>=1.1.0 in c:\\users\\administrator\\appdata\\local\\programs\\python\\python312\\lib\\site-packages (from gradio) (1.1.0)\n",
      "Requirement already satisfied: fastapi<1.0,>=0.115.2 in c:\\users\\administrator\\appdata\\local\\programs\\python\\python312\\lib\\site-packages (from gradio) (0.115.12)\n",
      "Requirement already satisfied: ffmpy in c:\\users\\administrator\\appdata\\local\\programs\\python\\python312\\lib\\site-packages (from gradio) (0.6.3)\n",
      "Requirement already satisfied: gradio-client==1.13.3 in c:\\users\\administrator\\appdata\\local\\programs\\python\\python312\\lib\\site-packages (from gradio) (1.13.3)\n",
      "Requirement already satisfied: groovy~=0.1 in c:\\users\\administrator\\appdata\\local\\programs\\python\\python312\\lib\\site-packages (from gradio) (0.1.2)\n",
      "Requirement already satisfied: huggingface-hub<2.0,>=0.33.5 in c:\\users\\administrator\\appdata\\local\\programs\\python\\python312\\lib\\site-packages (from gradio) (0.35.3)\n",
      "Requirement already satisfied: jinja2<4.0 in c:\\users\\administrator\\appdata\\local\\programs\\python\\python312\\lib\\site-packages (from gradio) (3.1.4)\n",
      "Requirement already satisfied: markupsafe<4.0,>=2.0 in c:\\users\\administrator\\appdata\\local\\programs\\python\\python312\\lib\\site-packages (from gradio) (3.0.2)\n",
      "Requirement already satisfied: numpy<3.0,>=1.0 in c:\\users\\administrator\\appdata\\local\\programs\\python\\python312\\lib\\site-packages (from gradio) (1.26.4)\n",
      "Requirement already satisfied: orjson~=3.0 in c:\\users\\administrator\\appdata\\local\\programs\\python\\python312\\lib\\site-packages (from gradio) (3.11.3)\n",
      "Requirement already satisfied: packaging in c:\\users\\administrator\\appdata\\local\\programs\\python\\python312\\lib\\site-packages (from gradio) (23.2)\n",
      "Requirement already satisfied: pandas<3.0,>=1.0 in c:\\users\\administrator\\appdata\\local\\programs\\python\\python312\\lib\\site-packages (from gradio) (2.3.3)\n",
      "Requirement already satisfied: pillow<12.0,>=8.0 in c:\\users\\administrator\\appdata\\local\\programs\\python\\python312\\lib\\site-packages (from gradio) (10.0.1)\n",
      "Requirement already satisfied: pydub in c:\\users\\administrator\\appdata\\local\\programs\\python\\python312\\lib\\site-packages (from gradio) (0.25.1)\n",
      "Requirement already satisfied: python-multipart>=0.0.18 in c:\\users\\administrator\\appdata\\local\\programs\\python\\python312\\lib\\site-packages (from gradio) (0.0.20)\n",
      "Requirement already satisfied: pyyaml<7.0,>=5.0 in c:\\users\\administrator\\appdata\\local\\programs\\python\\python312\\lib\\site-packages (from gradio) (6.0.2)\n",
      "Requirement already satisfied: ruff>=0.9.3 in c:\\users\\administrator\\appdata\\local\\programs\\python\\python312\\lib\\site-packages (from gradio) (0.14.0)\n",
      "Requirement already satisfied: safehttpx<0.2.0,>=0.1.6 in c:\\users\\administrator\\appdata\\local\\programs\\python\\python312\\lib\\site-packages (from gradio) (0.1.6)\n",
      "Requirement already satisfied: semantic-version~=2.0 in c:\\users\\administrator\\appdata\\local\\programs\\python\\python312\\lib\\site-packages (from gradio) (2.10.0)\n",
      "Requirement already satisfied: starlette<1.0,>=0.40.0 in c:\\users\\administrator\\appdata\\local\\programs\\python\\python312\\lib\\site-packages (from gradio) (0.46.1)\n",
      "Requirement already satisfied: tomlkit<0.14.0,>=0.12.0 in c:\\users\\administrator\\appdata\\local\\programs\\python\\python312\\lib\\site-packages (from gradio) (0.13.3)\n",
      "Requirement already satisfied: typer<1.0,>=0.12 in c:\\users\\administrator\\appdata\\local\\programs\\python\\python312\\lib\\site-packages (from gradio) (0.19.2)\n",
      "Requirement already satisfied: uvicorn>=0.14.0 in c:\\users\\administrator\\appdata\\local\\programs\\python\\python312\\lib\\site-packages (from gradio) (0.34.0)\n",
      "Requirement already satisfied: fsspec in c:\\users\\administrator\\appdata\\local\\programs\\python\\python312\\lib\\site-packages (from gradio-client==1.13.3->gradio) (2025.3.2)\n",
      "Requirement already satisfied: websockets<16.0,>=13.0 in c:\\users\\administrator\\appdata\\local\\programs\\python\\python312\\lib\\site-packages (from gradio-client==1.13.3->gradio) (15.0.1)\n",
      "Requirement already satisfied: filelock in c:\\users\\administrator\\appdata\\local\\programs\\python\\python312\\lib\\site-packages (from huggingface-hub<2.0,>=0.33.5->gradio) (3.16.1)\n",
      "Requirement already satisfied: requests in c:\\users\\administrator\\appdata\\local\\programs\\python\\python312\\lib\\site-packages (from huggingface-hub<2.0,>=0.33.5->gradio) (2.32.3)\n",
      "Requirement already satisfied: python-dateutil>=2.8.2 in c:\\users\\administrator\\appdata\\local\\programs\\python\\python312\\lib\\site-packages (from pandas<3.0,>=1.0->gradio) (2.9.0.post0)\n",
      "Requirement already satisfied: pytz>=2020.1 in c:\\users\\administrator\\appdata\\local\\programs\\python\\python312\\lib\\site-packages (from pandas<3.0,>=1.0->gradio) (2024.2)\n",
      "Requirement already satisfied: tzdata>=2022.7 in c:\\users\\administrator\\appdata\\local\\programs\\python\\python312\\lib\\site-packages (from pandas<3.0,>=1.0->gradio) (2024.2)\n",
      "Requirement already satisfied: click>=8.0.0 in c:\\users\\administrator\\appdata\\local\\programs\\python\\python312\\lib\\site-packages (from typer<1.0,>=0.12->gradio) (8.1.7)\n",
      "Requirement already satisfied: shellingham>=1.3.0 in c:\\users\\administrator\\appdata\\local\\programs\\python\\python312\\lib\\site-packages (from typer<1.0,>=0.12->gradio) (1.5.4)\n",
      "Requirement already satisfied: rich>=10.11.0 in c:\\users\\administrator\\appdata\\local\\programs\\python\\python312\\lib\\site-packages (from typer<1.0,>=0.12->gradio) (13.9.4)\n",
      "Requirement already satisfied: colorama in c:\\users\\administrator\\appdata\\local\\programs\\python\\python312\\lib\\site-packages (from click>=8.0.0->typer<1.0,>=0.12->gradio) (0.4.6)\n",
      "Requirement already satisfied: six>=1.5 in c:\\users\\administrator\\appdata\\local\\programs\\python\\python312\\lib\\site-packages (from python-dateutil>=2.8.2->pandas<3.0,>=1.0->gradio) (1.16.0)\n",
      "Requirement already satisfied: markdown-it-py>=2.2.0 in c:\\users\\administrator\\appdata\\local\\programs\\python\\python312\\lib\\site-packages (from rich>=10.11.0->typer<1.0,>=0.12->gradio) (3.0.0)\n",
      "Requirement already satisfied: pygments<3.0.0,>=2.13.0 in c:\\users\\administrator\\appdata\\local\\programs\\python\\python312\\lib\\site-packages (from rich>=10.11.0->typer<1.0,>=0.12->gradio) (2.18.0)\n",
      "Requirement already satisfied: mdurl~=0.1 in c:\\users\\administrator\\appdata\\local\\programs\\python\\python312\\lib\\site-packages (from markdown-it-py>=2.2.0->rich>=10.11.0->typer<1.0,>=0.12->gradio) (0.1.2)\n",
      "Requirement already satisfied: charset-normalizer<4,>=2 in c:\\users\\administrator\\appdata\\local\\programs\\python\\python312\\lib\\site-packages (from requests->huggingface-hub<2.0,>=0.33.5->gradio) (3.4.0)\n",
      "Requirement already satisfied: urllib3<3,>=1.21.1 in c:\\users\\administrator\\appdata\\local\\programs\\python\\python312\\lib\\site-packages (from requests->huggingface-hub<2.0,>=0.33.5->gradio) (2.2.3)\n"
     ]
    },
    {
     "name": "stderr",
     "output_type": "stream",
     "text": [
      "WARNING: Ignoring invalid distribution ~ip (C:\\Users\\Administrator\\AppData\\Local\\Programs\\Python\\Python312\\Lib\\site-packages)\n",
      "WARNING: Ignoring invalid distribution ~treamlit (C:\\Users\\Administrator\\AppData\\Local\\Programs\\Python\\Python312\\Lib\\site-packages)\n",
      "WARNING: Ignoring invalid distribution ~ip (C:\\Users\\Administrator\\AppData\\Local\\Programs\\Python\\Python312\\Lib\\site-packages)\n",
      "WARNING: Ignoring invalid distribution ~treamlit (C:\\Users\\Administrator\\AppData\\Local\\Programs\\Python\\Python312\\Lib\\site-packages)\n",
      "WARNING: Ignoring invalid distribution ~ip (C:\\Users\\Administrator\\AppData\\Local\\Programs\\Python\\Python312\\Lib\\site-packages)\n",
      "WARNING: Ignoring invalid distribution ~treamlit (C:\\Users\\Administrator\\AppData\\Local\\Programs\\Python\\Python312\\Lib\\site-packages)\n"
     ]
    }
   ],
   "source": [
    "# Install required packages\n",
    "!pip install openai python-dotenv gradio PyPDF2\n"
   ]
  },
  {
   "cell_type": "code",
   "execution_count": 2,
   "metadata": {},
   "outputs": [],
   "source": [
    "import os\n",
    "import json\n",
    "from datetime import datetime\n",
    "from dotenv import load_dotenv\n",
    "from openai import OpenAI\n",
    "import gradio as gr\n",
    "import PyPDF2\n"
   ]
  },
  {
   "cell_type": "code",
   "execution_count": 3,
   "metadata": {},
   "outputs": [],
   "source": [
    "# Load environment variables\n",
    "load_dotenv()\n",
    "\n",
    "# Initialize OpenAI client\n",
    "client = OpenAI(api_key=os.getenv(\"OPENAI_API_KEY\"))\n"
   ]
  },
  {
   "cell_type": "markdown",
   "metadata": {},
   "source": [
    "## 2. Load Business Information\n"
   ]
  },
  {
   "cell_type": "code",
   "execution_count": 4,
   "metadata": {},
   "outputs": [
    {
     "name": "stdout",
     "output_type": "stream",
     "text": [
      "Business Summary Loaded:\n",
      "Zak’s IT Support is a modern technology service provider dedicated to helping individuals and small businesses solve their IT problems quickly, securely, and affordably. Our mission is to make technol...\n"
     ]
    }
   ],
   "source": [
    "# Load business summary from text file\n",
    "def load_business_summary():\n",
    "    try:\n",
    "        with open('business_summary.txt', 'r', encoding='utf-8') as f:\n",
    "            return f.read()\n",
    "    except FileNotFoundError:\n",
    "        return \"Business information not available.\"\n",
    "\n",
    "# Load business information from PDF\n",
    "def load_business_pdf():\n",
    "    try:\n",
    "        with open('about_business.pdf', 'rb') as f:\n",
    "            pdf_reader = PyPDF2.PdfReader(f)\n",
    "            text = \"\"\n",
    "            for page in pdf_reader.pages:\n",
    "                text += page.extract_text()\n",
    "            return text\n",
    "    except Exception as e:\n",
    "        return \"PDF information not available.\"\n",
    "\n",
    "business_summary = load_business_summary()\n",
    "business_pdf_content = load_business_pdf()\n",
    "\n",
    "print(\"Business Summary Loaded:\")\n",
    "print(business_summary[:200] + \"...\")\n"
   ]
  },
  {
   "cell_type": "markdown",
   "metadata": {},
   "source": [
    "## 3. Tool Functions Implementation\n"
   ]
  },
  {
   "cell_type": "code",
   "execution_count": 5,
   "metadata": {},
   "outputs": [
    {
     "name": "stdout",
     "output_type": "stream",
     "text": [
      "\n",
      "Testing Tool Functions:\n",
      "\n",
      "1. Testing record_customer_interest:\n",
      "\n",
      "==================================================\n",
      "NEW LEAD RECORDED\n",
      "==================================================\n",
      "Timestamp: 2025-10-16 08:32:53\n",
      "Name: Test User\n",
      "Email: test@example.com\n",
      "Message: Interested in IT support services\n",
      "==================================================\n",
      "\n",
      "\n",
      "2. Testing record_feedback:\n",
      "\n",
      "==================================================\n",
      "FEEDBACK/UNANSWERED QUESTION\n",
      "==================================================\n",
      "Timestamp: 2025-10-16 08:32:53\n",
      "Question: What are your operating hours?\n",
      "==================================================\n",
      "\n"
     ]
    },
    {
     "data": {
      "text/plain": [
       "'Thank you for your feedback! This has been logged and our team will review it.'"
      ]
     },
     "execution_count": 5,
     "metadata": {},
     "output_type": "execute_result"
    }
   ],
   "source": [
    "# Tool 1: Record customer interest (lead collection)\n",
    "def record_customer_interest(email, name, message):\n",
    "    \"\"\"\n",
    "    Records customer interest and contact information for lead generation.\n",
    "    \n",
    "    Args:\n",
    "        email: Customer's email address\n",
    "        name: Customer's name\n",
    "        message: Message or notes about their interest\n",
    "    \n",
    "    Returns:\n",
    "        Confirmation message\n",
    "    \"\"\"\n",
    "    timestamp = datetime.now().strftime(\"%Y-%m-%d %H:%M:%S\")\n",
    "    \n",
    "    log_entry = f\"\"\"\n",
    "{'='*50}\n",
    "NEW LEAD RECORDED\n",
    "{'='*50}\n",
    "Timestamp: {timestamp}\n",
    "Name: {name}\n",
    "Email: {email}\n",
    "Message: {message}\n",
    "{'='*50}\n",
    "\"\"\"\n",
    "    \n",
    "    print(log_entry)\n",
    "    \n",
    "    # Also save to file\n",
    "    try:\n",
    "        with open('leads.log', 'a', encoding='utf-8') as f:\n",
    "            f.write(log_entry + '\\n')\n",
    "    except Exception as e:\n",
    "        print(f\"Error writing to leads.log: {e}\")\n",
    "    \n",
    "    return f\"Thank you {name}! Your information has been recorded. We'll reach out to you at {email} soon.\"\n",
    "\n",
    "\n",
    "# Tool 2: Record feedback or unanswered questions\n",
    "def record_feedback(question):\n",
    "    \"\"\"\n",
    "    Records customer feedback or questions that the bot couldn't answer.\n",
    "    \n",
    "    Args:\n",
    "        question: The question or feedback from the customer\n",
    "    \n",
    "    Returns:\n",
    "        Confirmation message\n",
    "    \"\"\"\n",
    "    timestamp = datetime.now().strftime(\"%Y-%m-%d %H:%M:%S\")\n",
    "    \n",
    "    log_entry = f\"\"\"\n",
    "{'='*50}\n",
    "FEEDBACK/UNANSWERED QUESTION\n",
    "{'='*50}\n",
    "Timestamp: {timestamp}\n",
    "Question: {question}\n",
    "{'='*50}\n",
    "\"\"\"\n",
    "    \n",
    "    print(log_entry)\n",
    "    \n",
    "    # Also save to file\n",
    "    try:\n",
    "        with open('feedback.log', 'a', encoding='utf-8') as f:\n",
    "            f.write(log_entry + '\\n')\n",
    "    except Exception as e:\n",
    "        print(f\"Error writing to feedback.log: {e}\")\n",
    "    \n",
    "    return \"Thank you for your feedback! This has been logged and our team will review it.\"\n",
    "\n",
    "\n",
    "# Test the tools\n",
    "print(\"\\nTesting Tool Functions:\")\n",
    "print(\"\\n1. Testing record_customer_interest:\")\n",
    "record_customer_interest(\"test@example.com\", \"Test User\", \"Interested in IT support services\")\n",
    "\n",
    "print(\"\\n2. Testing record_feedback:\")\n",
    "record_feedback(\"What are your operating hours?\")\n"
   ]
  },
  {
   "cell_type": "markdown",
   "metadata": {},
   "source": [
    "## 4. Define Tool Schemas for OpenAI\n"
   ]
  },
  {
   "cell_type": "code",
   "execution_count": 6,
   "metadata": {},
   "outputs": [
    {
     "name": "stdout",
     "output_type": "stream",
     "text": [
      "Tools defined successfully!\n"
     ]
    }
   ],
   "source": [
    "# Define tools for OpenAI API\n",
    "tools = [\n",
    "    {\n",
    "        \"type\": \"function\",\n",
    "        \"function\": {\n",
    "            \"name\": \"record_customer_interest\",\n",
    "            \"description\": \"Records a customer's contact information and interest in our services. Use this when a customer wants to be contacted, needs help, or expresses interest in our services.\",\n",
    "            \"parameters\": {\n",
    "                \"type\": \"object\",\n",
    "                \"properties\": {\n",
    "                    \"email\": {\n",
    "                        \"type\": \"string\",\n",
    "                        \"description\": \"The customer's email address\"\n",
    "                    },\n",
    "                    \"name\": {\n",
    "                        \"type\": \"string\",\n",
    "                        \"description\": \"The customer's name\"\n",
    "                    },\n",
    "                    \"message\": {\n",
    "                        \"type\": \"string\",\n",
    "                        \"description\": \"Message about their interest or needs\"\n",
    "                    }\n",
    "                },\n",
    "                \"required\": [\"email\", \"name\", \"message\"]\n",
    "            }\n",
    "        }\n",
    "    },\n",
    "    {\n",
    "        \"type\": \"function\",\n",
    "        \"function\": {\n",
    "            \"name\": \"record_feedback\",\n",
    "            \"description\": \"Records customer feedback or questions that cannot be answered. Use this when you don't know the answer to a customer's question or when they provide feedback.\",\n",
    "            \"parameters\": {\n",
    "                \"type\": \"object\",\n",
    "                \"properties\": {\n",
    "                    \"question\": {\n",
    "                        \"type\": \"string\",\n",
    "                        \"description\": \"The customer's question or feedback\"\n",
    "                    }\n",
    "                },\n",
    "                \"required\": [\"question\"]\n",
    "            }\n",
    "        }\n",
    "    }\n",
    "]\n",
    "\n",
    "# Map tool names to functions\n",
    "available_functions = {\n",
    "    \"record_customer_interest\": record_customer_interest,\n",
    "    \"record_feedback\": record_feedback\n",
    "}\n",
    "\n",
    "print(\"Tools defined successfully!\")\n"
   ]
  },
  {
   "cell_type": "markdown",
   "metadata": {},
   "source": [
    "## 5. Create System Prompt\n"
   ]
  },
  {
   "cell_type": "code",
   "execution_count": 7,
   "metadata": {},
   "outputs": [
    {
     "name": "stdout",
     "output_type": "stream",
     "text": [
      "System prompt created successfully!\n"
     ]
    }
   ],
   "source": [
    "# System prompt that defines the agent's behavior\n",
    "system_prompt = f\"\"\"\n",
    "You are an AI assistant for Zak's IT Support, a modern technology service provider. Your role is to represent the business professionally, answer questions about our services, and help collect leads.\n",
    "\n",
    "BUSINESS INFORMATION:\n",
    "{business_summary}\n",
    "\n",
    "ADDITIONAL DETAILS:\n",
    "{business_pdf_content}\n",
    "\n",
    "YOUR RESPONSIBILITIES:\n",
    "1. Stay in character as a friendly, professional IT support representative\n",
    "2. Answer questions about Zak's IT Support using the information provided above\n",
    "3. When customers express interest or need help, collect their contact information using the record_customer_interest tool\n",
    "4. If you don't know the answer to a question, use the record_feedback tool to log it for our team\n",
    "5. Encourage potential customers to leave their contact information so we can help them\n",
    "6. Be helpful, professional, and reassuring about IT problems\n",
    "\n",
    "GUIDELINES:\n",
    "- Be conversational and friendly while maintaining professionalism\n",
    "- Focus on how we can solve the customer's IT problems\n",
    "- Emphasize our quick response time, personalized service, and affordable pricing\n",
    "- When you don't have specific information (like pricing or hours), acknowledge this and use record_feedback to log the question\n",
    "- Always try to collect contact information from interested customers\n",
    "\n",
    "Remember: Your goal is to help customers understand our services and encourage them to reach out!\n",
    "\"\"\"\n",
    "\n",
    "print(\"System prompt created successfully!\")\n"
   ]
  },
  {
   "cell_type": "markdown",
   "metadata": {},
   "source": [
    "## 6. Chat Agent Implementation\n"
   ]
  },
  {
   "cell_type": "code",
   "execution_count": 8,
   "metadata": {},
   "outputs": [
    {
     "name": "stdout",
     "output_type": "stream",
     "text": [
      "Chat agent function created successfully!\n"
     ]
    }
   ],
   "source": [
    "def chat_with_agent(user_message, chat_history):\n",
    "    \"\"\"\n",
    "    Main chat function that handles user messages and agent responses.\n",
    "    \n",
    "    Args:\n",
    "        user_message: The user's input message\n",
    "        chat_history: List of previous messages in the conversation\n",
    "    \n",
    "    Returns:\n",
    "        Updated chat history\n",
    "    \"\"\"\n",
    "    # Build messages array for OpenAI API\n",
    "    messages = [{\"role\": \"system\", \"content\": system_prompt}]\n",
    "    \n",
    "    # Add chat history\n",
    "    for user_msg, assistant_msg in chat_history:\n",
    "        messages.append({\"role\": \"user\", \"content\": user_msg})\n",
    "        if assistant_msg:\n",
    "            messages.append({\"role\": \"assistant\", \"content\": assistant_msg})\n",
    "    \n",
    "    # Add current user message\n",
    "    messages.append({\"role\": \"user\", \"content\": user_message})\n",
    "    \n",
    "    # Call OpenAI API\n",
    "    response = client.chat.completions.create(\n",
    "        model=\"gpt-3.5-turbo\",\n",
    "        messages=messages,\n",
    "        tools=tools,\n",
    "        tool_choice=\"auto\"\n",
    "    )\n",
    "    \n",
    "    assistant_message = response.choices[0].message\n",
    "    \n",
    "    # Check if the model wants to call a tool\n",
    "    if assistant_message.tool_calls:\n",
    "        # Add assistant message with tool calls to messages\n",
    "        messages.append(assistant_message)\n",
    "        \n",
    "        # Process each tool call\n",
    "        for tool_call in assistant_message.tool_calls:\n",
    "            function_name = tool_call.function.name\n",
    "            function_args = json.loads(tool_call.function.arguments)\n",
    "            \n",
    "            print(f\"\\n[Tool Call] {function_name}\")\n",
    "            print(f\"[Arguments] {function_args}\")\n",
    "            \n",
    "            # Execute the function\n",
    "            function_to_call = available_functions[function_name]\n",
    "            function_response = function_to_call(**function_args)\n",
    "            \n",
    "            # Add tool response to messages\n",
    "            messages.append({\n",
    "                \"tool_call_id\": tool_call.id,\n",
    "                \"role\": \"tool\",\n",
    "                \"name\": function_name,\n",
    "                \"content\": function_response\n",
    "            })\n",
    "        \n",
    "        # Get final response from the model\n",
    "        second_response = client.chat.completions.create(\n",
    "            model=\"gpt-3.5-turbo\",\n",
    "            messages=messages\n",
    "        )\n",
    "        \n",
    "        final_message = second_response.choices[0].message.content\n",
    "    else:\n",
    "        # No tool calls, just return the response\n",
    "        final_message = assistant_message.content\n",
    "    \n",
    "    # Update chat history\n",
    "    chat_history.append((user_message, final_message))\n",
    "    \n",
    "    return \"\", chat_history\n",
    "\n",
    "print(\"Chat agent function created successfully!\")\n"
   ]
  },
  {
   "cell_type": "markdown",
   "metadata": {},
   "source": [
    "## 7. Create Gradio Interface\n"
   ]
  },
  {
   "cell_type": "code",
   "execution_count": null,
   "metadata": {},
   "outputs": [
    {
     "name": "stdout",
     "output_type": "stream",
     "text": [
      "Gradio interface created successfully!\n"
     ]
    },
    {
     "name": "stderr",
     "output_type": "stream",
     "text": [
      "C:\\Users\\Administrator\\AppData\\Local\\Temp\\ipykernel_14044\\1924425728.py:19: UserWarning: You have not specified a value for the `type` parameter. Defaulting to the 'tuples' format for chatbot messages, but this is deprecated and will be removed in a future version of Gradio. Please set type='messages' instead, which uses openai-style dictionaries with 'role' and 'content' keys.\n",
      "  chatbot = gr.Chatbot(height=400)\n"
     ]
    }
   ],
   "source": [
    "# Create Gradio ChatInterface\n",
    "with gr.Blocks(title=\"Zak's IT Support - AI Assistant\") as demo:\n",
    "    gr.Markdown(\n",
    "        \"\"\"\n",
    "        # 🖥️ Zak's IT Support - AI Business Assistant\n",
    "        \n",
    "        Welcome! I'm here to help you learn about our IT support services and assist with your technology needs.\n",
    "        \n",
    "        **I can help you with:**\n",
    "        - Learn about our services and expertise\n",
    "        - Schedule a consultation\n",
    "        - Answer questions about IT support\n",
    "        - Collect your information for follow-up\n",
    "        \n",
    "        Feel free to ask me anything!\n",
    "        \"\"\"\n",
    "    )\n",
    "    \n",
    "    chatbot = gr.Chatbot(height=400)\n",
    "    \n",
    "    with gr.Row():\n",
    "        msg = gr.Textbox(\n",
    "            label=\"Your Message\",\n",
    "            placeholder=\"Type your message here...\",\n",
    "            lines=2,\n",
    "            scale=4\n",
    "        )\n",
    "        send_btn = gr.Button(\"Send\", variant=\"primary\", scale=1)\n",
    "    \n",
    "    clear = gr.Button(\"Clear Chat\")\n",
    "    \n",
    "    # Handle message submission (both Enter key and Send button)\n",
    "    msg.submit(chat_with_agent, [msg, chatbot], [msg, chatbot])\n",
    "    send_btn.click(chat_with_agent, [msg, chatbot], [msg, chatbot])\n",
    "    \n",
    "    # Handle clear button\n",
    "    clear.click(lambda: None, None, chatbot, queue=False)\n",
    "    \n",
    "    gr.Markdown(\n",
    "        \"\"\"\n",
    "        ---\n",
    "        *Powered by OpenAI | Built for Zak's IT Support*\n",
    "        \"\"\"\n",
    "    )\n",
    "\n",
    "print(\"Gradio interface created successfully!\")\n"
   ]
  },
  {
   "cell_type": "markdown",
   "metadata": {},
   "source": [
    "## 8. Launch the Application\n"
   ]
  },
  {
   "cell_type": "code",
   "execution_count": null,
   "metadata": {},
   "outputs": [
    {
     "name": "stdout",
     "output_type": "stream",
     "text": [
      "* Running on local URL:  http://127.0.0.1:7860\n",
      "* Running on public URL: https://35d53b864c82e5bd5d.gradio.live\n",
      "\n",
      "This share link expires in 1 week. For free permanent hosting and GPU upgrades, run `gradio deploy` from the terminal in the working directory to deploy to Hugging Face Spaces (https://huggingface.co/spaces)\n"
     ]
    },
    {
     "data": {
      "text/html": [
       "<div><iframe src=\"https://35d53b864c82e5bd5d.gradio.live\" width=\"100%\" height=\"500\" allow=\"autoplay; camera; microphone; clipboard-read; clipboard-write;\" frameborder=\"0\" allowfullscreen></iframe></div>"
      ],
      "text/plain": [
       "<IPython.core.display.HTML object>"
      ]
     },
     "metadata": {},
     "output_type": "display_data"
    }
   ],
   "source": [
    "# Launch the Gradio interface\n",
    "demo.launch(share=True, debug=True)\n"
   ]
  },
  {
   "cell_type": "markdown",
   "metadata": {},
   "source": [
    "## 9. Test Cases\n",
    "\n",
    "Try these example interactions:\n",
    "\n",
    "1. **General Question**: \"What services does Zak's IT Support offer?\"\n",
    "2. **Lead Collection**: \"I need help with my office network setup. Can you help?\"\n",
    "3. **Unanswered Question**: \"What are your operating hours?\" (should trigger feedback logging)\n",
    "4. **Interest Expression**: \"I'm interested in your cybersecurity services. My name is John and my email is john@example.com\"\n"
   ]
  }
 ],
 "metadata": {
  "kernelspec": {
   "display_name": "Python 3 (ipykernel)",
   "language": "python",
   "name": "python3"
  },
  "language_info": {
   "codemirror_mode": {
    "name": "ipython",
    "version": 3
   },
   "file_extension": ".py",
   "mimetype": "text/x-python",
   "name": "python",
   "nbconvert_exporter": "python",
   "pygments_lexer": "ipython3",
   "version": "3.12.3"
  }
 },
 "nbformat": 4,
 "nbformat_minor": 4
}
